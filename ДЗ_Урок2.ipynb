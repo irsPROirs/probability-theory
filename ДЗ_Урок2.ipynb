{
  "nbformat": 4,
  "nbformat_minor": 0,
  "metadata": {
    "colab": {
      "name": "Untitled3.ipynb",
      "provenance": [],
      "authorship_tag": "ABX9TyM03QG9MAJsGgGjwz1CeD1H"
    },
    "kernelspec": {
      "name": "python3",
      "display_name": "Python 3"
    }
  },
  "cells": [
    {
      "cell_type": "code",
      "metadata": {
        "id": "sAa23sRonFIE"
      },
      "source": [
        "from math import factorial\r\n",
        "import numpy as np\r\n",
        "import matplotlib.pyplot as plt\r\n"
      ],
      "execution_count": 87,
      "outputs": []
    },
    {
      "cell_type": "code",
      "metadata": {
        "id": "NR-HxMQ8uyKO"
      },
      "source": [
        "def bern(p,n,k):\r\n",
        "  q=1-p\r\n",
        "  return factorial(n)/(factorial(k)*factorial(n-k))*p**k*q**(n-k)"
      ],
      "execution_count": 88,
      "outputs": []
    },
    {
      "cell_type": "code",
      "metadata": {
        "id": "dz3tBkXLvMmd"
      },
      "source": [
        "def puass(p,n,m):\r\n",
        "  lambda_=p*n\r\n",
        "  return (lambda_**m / np.math.factorial(m)) * np.exp(-lambda_)"
      ],
      "execution_count": 89,
      "outputs": []
    },
    {
      "cell_type": "code",
      "metadata": {
        "id": "QpiKzGT0v0hp"
      },
      "source": [
        "def plotting(funct,p,n,k):\r\n",
        "  l=[]\r\n",
        "  for k in range(n):\r\n",
        "    l.append(funct(p,n,k))\r\n",
        "  return l"
      ],
      "execution_count": 90,
      "outputs": []
    },
    {
      "cell_type": "markdown",
      "metadata": {
        "id": "a4MqVty0sdSn"
      },
      "source": [
        "1.Вероятность того, что стрелок попадет в мишень, выстрелив один раз, равна 0.8. Стрелок выстрелил 100 раз. Найдите вероятность того, что стрелок попадет в цель ровно 85 раз."
      ]
    },
    {
      "cell_type": "code",
      "metadata": {
        "id": "WoYYuUG-mzH9"
      },
      "source": [
        "p=0.8\r\n",
        "n=100\r\n",
        "k=85\r\n",
        "q=1-p"
      ],
      "execution_count": 91,
      "outputs": []
    },
    {
      "cell_type": "code",
      "metadata": {
        "colab": {
          "base_uri": "https://localhost:8080/"
        },
        "id": "WwVG2Ql_u-pW",
        "outputId": "0e7f366c-17f9-482f-e4c4-459bf7194bf3"
      },
      "source": [
        "bern(p,n,k)"
      ],
      "execution_count": 92,
      "outputs": [
        {
          "output_type": "execute_result",
          "data": {
            "text/plain": [
              "0.048061793700746355"
            ]
          },
          "metadata": {
            "tags": []
          },
          "execution_count": 92
        }
      ]
    },
    {
      "cell_type": "code",
      "metadata": {
        "colab": {
          "base_uri": "https://localhost:8080/",
          "height": 265
        },
        "id": "5HYHS0Oqwvbq",
        "outputId": "36acd5f3-8208-4778-e15a-d64380358621"
      },
      "source": [
        "l=plotting(bern,p,n,k)\r\n",
        "plt.plot(l)\r\n",
        "plt.show()"
      ],
      "execution_count": 93,
      "outputs": [
        {
          "output_type": "display_data",
          "data": {
            "image/png": "[encoded data removed]",
            "text/plain": [
              "<Figure size 432x288 with 1 Axes>"
            ]
          },
          "metadata": {
            "tags": [],
            "needs_background": "light"
          }
        }
      ]
    },
    {
      "cell_type": "markdown",
      "metadata": {
        "id": "jwgqYBW-silG"
      },
      "source": [
        "2.Вероятность того, что лампочка перегорит в течение первого дня эксплуатации, равна 0.0004. В жилом комплексе после ремонта в один день включили 5000 новых лампочек. Какова вероятность, что ни одна из них не перегорит в первый день? Какова вероятность, что перегорят ровно две?"
      ]
    },
    {
      "cell_type": "code",
      "metadata": {
        "id": "EesR62_qnaJL"
      },
      "source": [
        "p=0.0004\r\n",
        "n=5000\r\n",
        "m=0\r\n",
        "lambda_=p*n"
      ],
      "execution_count": 94,
      "outputs": []
    },
    {
      "cell_type": "code",
      "metadata": {
        "colab": {
          "base_uri": "https://localhost:8080/"
        },
        "id": "K8VbXE98vZTU",
        "outputId": "cfcff2f1-f0f0-49a9-bc28-1aab3a41f4c7"
      },
      "source": [
        "puass(p,n,m)"
      ],
      "execution_count": 95,
      "outputs": [
        {
          "output_type": "execute_result",
          "data": {
            "text/plain": [
              "0.1353352832366127"
            ]
          },
          "metadata": {
            "tags": []
          },
          "execution_count": 95
        }
      ]
    },
    {
      "cell_type": "code",
      "metadata": {
        "id": "pIwzcT5htC2x"
      },
      "source": [
        "m=2"
      ],
      "execution_count": 96,
      "outputs": []
    },
    {
      "cell_type": "code",
      "metadata": {
        "colab": {
          "base_uri": "https://localhost:8080/"
        },
        "id": "3nkZPiu5tM7J",
        "outputId": "763904aa-829c-47bd-aecf-dca4bfda2120"
      },
      "source": [
        "puass(p,n,m)"
      ],
      "execution_count": 97,
      "outputs": [
        {
          "output_type": "execute_result",
          "data": {
            "text/plain": [
              "0.2706705664732254"
            ]
          },
          "metadata": {
            "tags": []
          },
          "execution_count": 97
        }
      ]
    },
    {
      "cell_type": "markdown",
      "metadata": {
        "id": "suFPCpChtUrr"
      },
      "source": [
        "3.Монету подбросили 144 раза. Какова вероятность, что орел выпадет ровно 70 раз?"
      ]
    },
    {
      "cell_type": "code",
      "metadata": {
        "id": "VdzJ1F6-tNVi"
      },
      "source": [
        "p=0.5\r\n",
        "n=144\r\n",
        "k=70"
      ],
      "execution_count": 98,
      "outputs": []
    },
    {
      "cell_type": "code",
      "metadata": {
        "colab": {
          "base_uri": "https://localhost:8080/"
        },
        "id": "wPSxiwgBtjnB",
        "outputId": "3ce820b2-0f3a-4ef7-9e8e-da79b6ba0344"
      },
      "source": [
        "bern(p,n,k)"
      ],
      "execution_count": 99,
      "outputs": [
        {
          "output_type": "execute_result",
          "data": {
            "text/plain": [
              "0.06281178035144776"
            ]
          },
          "metadata": {
            "tags": []
          },
          "execution_count": 99
        }
      ]
    },
    {
      "cell_type": "code",
      "metadata": {
        "colab": {
          "base_uri": "https://localhost:8080/",
          "height": 265
        },
        "id": "YBlpoKtPwVVP",
        "outputId": "7af2a134-d158-4c39-b5f2-cc7d2d1b873e"
      },
      "source": [
        "l=plotting(bern,p,n,k)\r\n",
        "plt.plot(l)\r\n",
        "plt.show()"
      ],
      "execution_count": 100,
      "outputs": [
        {
          "output_type": "display_data",
          "data": {
            "image/png": "[encoded data removed]",
            "text/plain": [
              "<Figure size 432x288 with 1 Axes>"
            ]
          },
          "metadata": {
            "tags": [],
            "needs_background": "light"
          }
        }
      ]
    },
    {
      "cell_type": "markdown",
      "metadata": {
        "id": "DlcNVsGOxSzk"
      },
      "source": [
        "4.В первом ящике находится 10 мячей, из которых 7 - белые. Во втором ящике - 11 мячей, из которых 9 белых. Из каждого ящика вытаскивают случайным образом по два мяча. Какова вероятность того, что все мячи белые? Какова вероятность того, что ровно два мяча белые? Какова вероятность того, что хотя бы один мяч белый?"
      ]
    },
    {
      "cell_type": "code",
      "metadata": {
        "colab": {
          "base_uri": "https://localhost:8080/"
        },
        "id": "dcw95uUhuVKp",
        "outputId": "c6df4318-2222-4270-9a6d-02987a3c00a6"
      },
      "source": [
        "p=7/10*6/9*9/11*8/10\r\n",
        "p"
      ],
      "execution_count": 101,
      "outputs": [
        {
          "output_type": "execute_result",
          "data": {
            "text/plain": [
              "0.3054545454545454"
            ]
          },
          "metadata": {
            "tags": []
          },
          "execution_count": 101
        }
      ]
    },
    {
      "cell_type": "code",
      "metadata": {
        "colab": {
          "base_uri": "https://localhost:8080/"
        },
        "id": "y-FoBJsdx0Qd",
        "outputId": "b34bf020-2b5d-483f-b683-c13a6f242da2"
      },
      "source": [
        "n=4\r\n",
        "k=2\r\n",
        "bern(p,n,k)"
      ],
      "execution_count": 102,
      "outputs": [
        {
          "output_type": "execute_result",
          "data": {
            "text/plain": [
              "0.27005099494296836"
            ]
          },
          "metadata": {
            "tags": []
          },
          "execution_count": 102
        }
      ]
    },
    {
      "cell_type": "code",
      "metadata": {
        "colab": {
          "base_uri": "https://localhost:8080/"
        },
        "id": "gQopaxPLzV8n",
        "outputId": "af268edf-fd39-4f77-9237-82055f941c6c"
      },
      "source": [
        "sum=0\r\n",
        "for k in range(1,4):\r\n",
        "  sum+=bern(p,n,k)\r\n",
        "sum"
      ],
      "execution_count": 103,
      "outputs": [
        {
          "output_type": "execute_result",
          "data": {
            "text/plain": [
              "0.7585912661484872"
            ]
          },
          "metadata": {
            "tags": []
          },
          "execution_count": 103
        }
      ]
    },
    {
      "cell_type": "code",
      "metadata": {
        "id": "hE9781SB0eW3"
      },
      "source": [
        ""
      ],
      "execution_count": 103,
      "outputs": []
    }
  ]
}